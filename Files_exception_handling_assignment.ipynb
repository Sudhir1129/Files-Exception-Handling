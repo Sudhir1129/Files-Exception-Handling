{
  "nbformat": 4,
  "nbformat_minor": 0,
  "metadata": {
    "colab": {
      "provenance": []
    },
    "kernelspec": {
      "name": "python3",
      "display_name": "Python 3"
    },
    "language_info": {
      "name": "python"
    }
  },
  "cells": [
    {
      "cell_type": "code",
      "execution_count": null,
      "metadata": {
        "id": "TQyU4ZuYBel2"
      },
      "outputs": [],
      "source": []
    },
    {
      "cell_type": "markdown",
      "source": [
        "#Files, exceptional handling, logging and\n",
        "#memory management Questions"
      ],
      "metadata": {
        "id": "x_8xfFJGBq-k"
      }
    },
    {
      "cell_type": "code",
      "source": [],
      "metadata": {
        "id": "ARVZEVpUB4Q6"
      },
      "execution_count": null,
      "outputs": []
    },
    {
      "cell_type": "markdown",
      "source": [
        "#Question and Asnwers"
      ],
      "metadata": {
        "id": "vWoignBjB8Xp"
      }
    },
    {
      "cell_type": "markdown",
      "source": [
        "1. HF What is the difference between interpreted and compiled languages?"
      ],
      "metadata": {
        "id": "G1T9ZAv0CGGw"
      }
    },
    {
      "cell_type": "markdown",
      "source": [
        "- Interpreted languages execute code line by line at runtime (e.g., Python, JavaScript), making them slower but more flexible for debugging. Compiled languages convert the entire code into machine language before execution (e.g., C, Java), making them faster but requiring a compilation step.\n",
        "\n",
        "\n",
        "\n",
        "\n",
        "\n",
        "\n",
        "\n"
      ],
      "metadata": {
        "id": "an0cFmhLCFY9"
      }
    },
    {
      "cell_type": "markdown",
      "source": [
        "2. What is exception handling in Python?"
      ],
      "metadata": {
        "id": "IWGn2XgSC4gn"
      }
    },
    {
      "cell_type": "markdown",
      "source": [
        "- Exception handling in Python is a mechanism to handle runtime errors and prevent program crashes. It uses try, except, else, and finally blocks to catch and manage errors gracefully."
      ],
      "metadata": {
        "id": "CP6nYFQ9DB7I"
      }
    },
    {
      "cell_type": "markdown",
      "source": [
        "3. What is the purpose of the finally block in exception handling?"
      ],
      "metadata": {
        "id": "n8a0wRbNDUY_"
      }
    },
    {
      "cell_type": "markdown",
      "source": [
        "- The finally block in exception handling is used to execute code regardless of whether an exception occurs or not. It is typically used for cleanup actions like closing files or releasing resources."
      ],
      "metadata": {
        "id": "WskOgVvvDa8K"
      }
    },
    {
      "cell_type": "markdown",
      "source": [
        "4. What is logging in Python?"
      ],
      "metadata": {
        "id": "mo382GcqDoPy"
      }
    },
    {
      "cell_type": "markdown",
      "source": [
        "- Logging in Python is used to record events, errors, and other messages during program execution for debugging and monitoring. The logging module provides different log levels: DEBUG, INFO, WARNING, ERROR, and CRITICAL."
      ],
      "metadata": {
        "id": "rjiZaVx9Dyqu"
      }
    },
    {
      "cell_type": "markdown",
      "source": [
        "5. What is the significance of the __del__ method in Python?"
      ],
      "metadata": {
        "id": "oFZQAXlhD_Mu"
      }
    },
    {
      "cell_type": "markdown",
      "source": [
        "- The __del__ method in Python is a destructor that is called when an object is about to be destroyed. It is used to release resources like closing files or network connections before an object is deleted from memory by the garbage collector.\n",
        "\n",
        "Significance: Ensures proper resource cleanup when an object is no longer needed. However, relying on __del__ is discouraged because garbage collection timing is unpredictable."
      ],
      "metadata": {
        "id": "RPqZ0EMwEI6s"
      }
    },
    {
      "cell_type": "markdown",
      "source": [
        "6.What is the difference between import and from ... import in Python?"
      ],
      "metadata": {
        "id": "g97pGDIAEh28"
      }
    },
    {
      "cell_type": "markdown",
      "source": [
        "- The difference between import and from ... import in Python is:\n",
        "\n",
        "1. import module_name\n",
        "Imports the entire module.\n",
        "You must use module_name.function_name() to access functions.\n",
        "The difference between import and from ... import in Python is:\n",
        "\n",
        "1. import module_name\n",
        "Imports the entire module.\n",
        "You must use module_name.function_name() to access functions.\n"
      ],
      "metadata": {
        "id": "xUt0jbxiEvnR"
      }
    },
    {
      "cell_type": "markdown",
      "source": [
        "7. How can you handle multiple exceptions in Python?"
      ],
      "metadata": {
        "id": "utpG81lEE7rH"
      }
    },
    {
      "cell_type": "markdown",
      "source": [
        "- You can handle multiple exceptions in Python using multiple except blocks or by using a single except block with a tuple of exceptions."
      ],
      "metadata": {
        "id": "HuqrQYGCFSpx"
      }
    },
    {
      "cell_type": "markdown",
      "source": [
        "8. What is the purpose of the with statement when handling files in Python?"
      ],
      "metadata": {
        "id": "nhexFMZgFeNh"
      }
    },
    {
      "cell_type": "markdown",
      "source": [
        "- The with statement in Python is used for handling files safely by automatically closing them after use, even if an exception occurs. It simplifies resource management and prevents memory leaks."
      ],
      "metadata": {
        "id": "cMBCJmAHFxsH"
      }
    },
    {
      "cell_type": "markdown",
      "source": [
        "9. What is the difference between multithreading and multiprocessing?"
      ],
      "metadata": {
        "id": "3M2JQOB1FzEQ"
      }
    },
    {
      "cell_type": "markdown",
      "source": [
        "- Multithreading runs multiple threads within the same process, sharing memory, but is limited by Python’s Global Interpreter Lock (GIL), making it best for I/O-bound tasks like file handling and network requests. Multiprocessing creates separate processes, each with its own memory space, allowing true parallelism, making it ideal for CPU-bound tasks like heavy computations. The threading module is used for multithreading, while the multiprocessing module is used for multiprocessing.\n"
      ],
      "metadata": {
        "id": "D4X1VPozF69s"
      }
    },
    {
      "cell_type": "markdown",
      "source": [
        "10. What are the advantages of using logging in a program?"
      ],
      "metadata": {
        "id": "vFFMnRVuGTNL"
      }
    },
    {
      "cell_type": "markdown",
      "source": [
        "- Logging in a program provides several advantages:\n",
        "\n",
        "Debugging and Troubleshooting – Helps identify and fix issues efficiently.\n",
        "Tracking Program Flow – Records events, making it easier to understand execution.\n",
        "Error Monitoring – Captures warnings and errors for quick resolution.\n",
        "Performance Analysis – Helps analyze execution time and detect bottlenecks.\n",
        "Customizable Log Levels – Supports different levels like DEBUG, INFO, WARNING, ERROR, and CRITICAL.\n",
        "Persistent Record Keeping – Saves logs to files for future reference.\n",
        "Better than Print Statements – More structured, configurable, and can be easily turned"
      ],
      "metadata": {
        "id": "_UsEtKddGavV"
      }
    },
    {
      "cell_type": "markdown",
      "source": [
        "11. What is memory management in Python?"
      ],
      "metadata": {
        "id": "1XPg5lJxGjDA"
      }
    },
    {
      "cell_type": "markdown",
      "source": [
        "- Memory management in Python refers to the efficient allocation, usage, and deallocation of memory during program execution. Python handles memory automatically using:\n",
        "\n",
        "Automatic Garbage Collection – Removes unused objects to free memory.\n",
        "Reference Counting – Tracks the number of references to an object; deletes it when the count reaches zero.\n",
        "Dynamic Memory Allocation – Uses private heap space for object storage, managed by the Python Memory Manager.\n",
        "Memory Pools (PyMalloc) – Optimizes memory usage by reusing small objects."
      ],
      "metadata": {
        "id": "MpyFpuUZGyN3"
      }
    },
    {
      "cell_type": "markdown",
      "source": [
        "12. What are the basic steps involved in exception handling in Python?"
      ],
      "metadata": {
        "id": "T6eSO852G4Kd"
      }
    },
    {
      "cell_type": "markdown",
      "source": [
        "- The basic steps involved in exception handling in Python are:\n",
        "\n",
        "Try Block (try) – Place the code that may cause an exception inside a try block.\n",
        "Except Block (except) – Catch and handle specific or multiple exceptions.\n",
        "Else Block (else) (Optional) – Runs if no exception occurs.\n",
        "Finally Block (finally) (Optional) – Executes cleanup code, whether an exception occurs or not."
      ],
      "metadata": {
        "id": "4txvF-bXG_aI"
      }
    },
    {
      "cell_type": "markdown",
      "source": [
        "13. Why is memory management important in Python?\n"
      ],
      "metadata": {
        "id": "ws6rW2e7HEZA"
      }
    },
    {
      "cell_type": "markdown",
      "source": [
        "-  \n",
        "Memory management in Python is crucial because it ensures efficient use of resources, prevents memory leaks, and optimizes performance. It allows programs to run smoothly by automatically allocating and deallocating memory using garbage collection, reference counting, and dynamic memory allocation. Proper memory management helps avoid crashes and excessive memory consumption, making Python applications more reliable and scalable.\n"
      ],
      "metadata": {
        "id": "pGG4nN_7HYrN"
      }
    },
    {
      "cell_type": "markdown",
      "source": [
        "14. What is the role of try and except in exception handling?"
      ],
      "metadata": {
        "id": "BSibNaFiHejN"
      }
    },
    {
      "cell_type": "markdown",
      "source": [
        "- The try block in Python contains code that may cause an exception, while the except block handles errors to prevent program crashes. When an error occurs inside the try block, execution is transferred to the appropriate except block instead of stopping the program."
      ],
      "metadata": {
        "id": "5e-9FN-sHlZA"
      }
    },
    {
      "cell_type": "markdown",
      "source": [
        "15. How does Python's garbage collection system work?"
      ],
      "metadata": {
        "id": "LXYy-kJJHsFP"
      }
    },
    {
      "cell_type": "markdown",
      "source": [
        "- Python’s garbage collection system automatically manages memory by removing unused objects. It uses:\n",
        "\n",
        "Reference Counting – Objects are deleted when their reference count drops to zero.\n",
        "Cyclic Garbage Collection – Detects and removes cyclic references that reference counting can't handle.\n",
        "gc Module – Allows manual garbage collection control."
      ],
      "metadata": {
        "id": "5tGFnLUIH53g"
      }
    },
    {
      "cell_type": "markdown",
      "source": [
        "16. What is the purpose of the else block in exception handling?"
      ],
      "metadata": {
        "id": "wQs82c-cH_u6"
      }
    },
    {
      "cell_type": "markdown",
      "source": [
        "- The else block executes code only if no exception occurs in the try block. It is used to separate normal execution from error handling."
      ],
      "metadata": {
        "id": "kHXVplsyIF63"
      }
    },
    {
      "cell_type": "markdown",
      "source": [
        "17. What are the common logging levels in Python?"
      ],
      "metadata": {
        "id": "jU3rse34IKjd"
      }
    },
    {
      "cell_type": "markdown",
      "source": [
        "- Python’s logging module has five common levels:\n",
        "\n",
        "DEBUG – Detailed information (for debugging).<br>\n",
        "INFO – General program execution info.<br>\n",
        "WARNING – Potential issues (e.g., low disk space).<br>\n",
        "ERROR – Errors that disrupt execution.\n",
        "CRITICAL – Severe errors that cause system failure."
      ],
      "metadata": {
        "id": "5n2Nc8SnIS1S"
      }
    },
    {
      "cell_type": "markdown",
      "source": [
        "18. What is the difference between os.fork() and multiprocessing in Python?"
      ],
      "metadata": {
        "id": "18-8z5YYIegt"
      }
    },
    {
      "cell_type": "markdown",
      "source": [
        "- os.fork() (Linux/macOS only) creates a child process that shares memory with the parent, leading to potential conflicts.<br>\n",
        "The multiprocessing module creates independent processes, each with its own memory space, making it more portable and efficient for parallel execution."
      ],
      "metadata": {
        "id": "wda2F2xPIpVU"
      }
    },
    {
      "cell_type": "markdown",
      "source": [
        "19. What is the importance of closing a file in Python?"
      ],
      "metadata": {
        "id": "tTc8VRP5IwQF"
      }
    },
    {
      "cell_type": "markdown",
      "source": [
        "- Closing a file:\n",
        "\n",
        "Frees system resources (file handles).\n",
        "Prevents data loss by ensuring all data is written.\n",
        "Avoids memory leaks in long-running applications.\n",
        "Using with open() automatically closes the file after use."
      ],
      "metadata": {
        "id": "dP-ZkN_QI2S9"
      }
    },
    {
      "cell_type": "markdown",
      "source": [
        "20. What is the difference between file.read() and file.readline() in Python?\n"
      ],
      "metadata": {
        "id": "NkVS3_Q6I8Ts"
      }
    },
    {
      "cell_type": "markdown",
      "source": [
        "- file.read(size) – Reads the entire file or a specified number of characters.\n",
        "file.readline() – Reads only one line at a time, useful for processing large files efficiently."
      ],
      "metadata": {
        "id": "OJMHj6kHJC6A"
      }
    },
    {
      "cell_type": "markdown",
      "source": [
        "21. What is the logging module in Python used for?"
      ],
      "metadata": {
        "id": "yKuVM9f-JHgf"
      }
    },
    {
      "cell_type": "markdown",
      "source": [
        "- The logging module is used to record program events, errors, and debugging information. It provides different logging levels and allows logging to files, consoles, or external systems."
      ],
      "metadata": {
        "id": "URRhPMLNJMti"
      }
    },
    {
      "cell_type": "markdown",
      "source": [
        "22. What is the os module in Python used for in file handling?"
      ],
      "metadata": {
        "id": "WKRT4N6kJRGI"
      }
    },
    {
      "cell_type": "markdown",
      "source": [
        "- The os module provides functions to interact with the operating system, such as:\n",
        "\n",
        "Creating, deleting, renaming files/directories (os.remove(), os.mkdir()).<br>\n",
        "Checking file paths (os.path.exists()).\n",
        "Listing directory contents (os.listdir())."
      ],
      "metadata": {
        "id": "i2rW8G5IJZCY"
      }
    },
    {
      "cell_type": "markdown",
      "source": [
        "23. What are the challenges associated with memory management in Python?"
      ],
      "metadata": {
        "id": "pWBr5igQJhN1"
      }
    },
    {
      "cell_type": "markdown",
      "source": [
        "- High memory usage due to dynamic typing and object overhead.\n",
        "Garbage collection overhead, which can slow performance.\n",
        "Cyclic references, requiring extra processing to remove.\n",
        "Global Interpreter Lock (GIL) limiting true parallel execution in multi-threaded programs."
      ],
      "metadata": {
        "id": "NsxhGySaJnI0"
      }
    },
    {
      "cell_type": "markdown",
      "source": [
        "24. How do you raise an exception manually in Python?"
      ],
      "metadata": {
        "id": "KZdK37DzJtbW"
      }
    },
    {
      "cell_type": "markdown",
      "source": [
        "- Use the raise keyword to manually trigger an exception.\n",
        "\n",
        "x = -5\n",
        "if x < 0:\n",
        "    raise ValueError(\"Negative values are not allowed!\")"
      ],
      "metadata": {
        "id": "eEX1CiV_Jyqo"
      }
    },
    {
      "cell_type": "markdown",
      "source": [
        "25. Why is it important to use multithreading in certain applications?"
      ],
      "metadata": {
        "id": "qkACjPFnJ8hN"
      }
    },
    {
      "cell_type": "markdown",
      "source": [
        "Multithreading is useful for I/O-bound tasks like:\n",
        "\n",
        "Downloading files (multiple requests at once).\n",
        "Handling user interactions in GUI applications.\n",
        "Real-time data processing, like stock price monitoring.\n",
        "It improves responsiveness and efficiency by running multiple tasks concurrently.\n",
        "\n",
        "\n",
        "\n",
        "\n",
        "\n",
        "\n"
      ],
      "metadata": {
        "id": "NP3ThrkrKDa0"
      }
    },
    {
      "cell_type": "markdown",
      "source": [
        "# Practical Questions"
      ],
      "metadata": {
        "id": "3B4JLdY4KFuw"
      }
    },
    {
      "cell_type": "markdown",
      "source": [
        "1. How can you open a file for writing in Python and write a string to it"
      ],
      "metadata": {
        "id": "t-YiVt_CKS7f"
      }
    },
    {
      "cell_type": "code",
      "source": [
        "with open(\"example.txt\", \"w\") as file:\n",
        "    file.write(\"Hello, World!\")\n"
      ],
      "metadata": {
        "id": "viLj-QhBKsr4"
      },
      "execution_count": 1,
      "outputs": []
    },
    {
      "cell_type": "code",
      "source": [],
      "metadata": {
        "id": "tZcviLxTKx-r"
      },
      "execution_count": null,
      "outputs": []
    },
    {
      "cell_type": "markdown",
      "source": [
        "2. Write a Python program to read the contents of a file and print each line"
      ],
      "metadata": {
        "id": "CV_S8O3ZK110"
      }
    },
    {
      "cell_type": "code",
      "source": [
        "with open(\"example.txt\", \"r\") as file:\n",
        "    for line in file:\n",
        "        print(line.strip())\n"
      ],
      "metadata": {
        "id": "TbKCeY2ZK7Zc"
      },
      "execution_count": null,
      "outputs": []
    },
    {
      "cell_type": "markdown",
      "source": [
        "3.How would you handle a case where the file doesn't exist while trying to open it for reading?"
      ],
      "metadata": {
        "id": "SilFAYubK_We"
      }
    },
    {
      "cell_type": "code",
      "source": [
        "try:\n",
        "    with open(\"nonexistent.txt\", \"r\") as file:\n",
        "        print(file.read())\n",
        "except FileNotFoundError:\n",
        "    print(\"File not found!\")\n"
      ],
      "metadata": {
        "id": "IT0Y1QJLLEkL"
      },
      "execution_count": null,
      "outputs": []
    },
    {
      "cell_type": "markdown",
      "source": [
        "4.Write a Python script that reads from one file and writes its content to another file"
      ],
      "metadata": {
        "id": "VE6unejuLIiO"
      }
    },
    {
      "cell_type": "code",
      "source": [
        "with open(\"source.txt\", \"r\") as src, open(\"destination.txt\", \"w\") as dest:\n",
        "    dest.write(src.read())\n"
      ],
      "metadata": {
        "id": "fonQOl1aLOxS"
      },
      "execution_count": null,
      "outputs": []
    },
    {
      "cell_type": "markdown",
      "source": [
        "5.How would you catch and handle division by zero error in Python"
      ],
      "metadata": {
        "id": "sxzN8_MeLYea"
      }
    },
    {
      "cell_type": "code",
      "source": [
        "try:\n",
        "    result = 10 / 0\n",
        "except ZeroDivisionError:\n",
        "    print(\"Cannot divide by zero!\")\n"
      ],
      "metadata": {
        "id": "Ga7Gyy6zLd5J"
      },
      "execution_count": null,
      "outputs": []
    },
    {
      "cell_type": "markdown",
      "source": [
        "6. Write a Python program that logs an error message to a log file when a division by zero exception occurs"
      ],
      "metadata": {
        "id": "6zrGFWVtLn-y"
      }
    },
    {
      "cell_type": "code",
      "source": [
        "import logging\n",
        "\n",
        "logging.basicConfig(filename=\"error.log\", level=logging.ERROR)\n",
        "try:\n",
        "    result = 10 / 0\n",
        "except ZeroDivisionError as e:\n",
        "    logging.error(f\"Error: {e}\")\n"
      ],
      "metadata": {
        "id": "KaONXVNkLeLE"
      },
      "execution_count": null,
      "outputs": []
    },
    {
      "cell_type": "markdown",
      "source": [
        "7.How do you log information at different levels (INFO, ERROR, WARNING) in Python using the logging module"
      ],
      "metadata": {
        "id": "zwi8aRYVLwXG"
      }
    },
    {
      "cell_type": "code",
      "source": [
        "import logging\n",
        "\n",
        "logging.basicConfig(level=logging.DEBUG)\n",
        "logging.info(\"This is an INFO message.\")\n",
        "logging.warning(\"This is a WARNING message.\")\n",
        "logging.error(\"This is an ERROR message.\")\n"
      ],
      "metadata": {
        "id": "CFy8NkYzL08B"
      },
      "execution_count": null,
      "outputs": []
    },
    {
      "cell_type": "markdown",
      "source": [
        "8.Write a program to handle a file opening error using exception handling"
      ],
      "metadata": {
        "id": "atDHam2zL4YE"
      }
    },
    {
      "cell_type": "code",
      "source": [
        "try:\n",
        "    with open(\"file.txt\", \"r\") as file:\n",
        "        print(file.read())\n",
        "except FileNotFoundError:\n",
        "    print(\"File not found!\")\n"
      ],
      "metadata": {
        "id": "dPTiKD33L-dE"
      },
      "execution_count": null,
      "outputs": []
    },
    {
      "cell_type": "markdown",
      "source": [
        "9. How can you read a file line by line and store its content in a list in Python"
      ],
      "metadata": {
        "id": "a0RXHwTeMCet"
      }
    },
    {
      "cell_type": "code",
      "source": [
        "with open(\"example.txt\", \"r\") as file:\n",
        "    lines = [line.strip() for line in file]\n",
        "print(lines)\n"
      ],
      "metadata": {
        "id": "CxNxp80WMIk3"
      },
      "execution_count": null,
      "outputs": []
    },
    {
      "cell_type": "markdown",
      "source": [
        "10.How can you append data to an existing file in Python"
      ],
      "metadata": {
        "id": "hM6teUOuML8x"
      }
    },
    {
      "cell_type": "code",
      "source": [
        "with open(\"example.txt\", \"a\") as file:\n",
        "    file.write(\"\\nNew line added.\")\n"
      ],
      "metadata": {
        "id": "FqWGiW9CMRgJ"
      },
      "execution_count": null,
      "outputs": []
    },
    {
      "cell_type": "markdown",
      "source": [
        "11. Write a Python program that uses a try-except block to handle an error when attempting to access a\n",
        "dictionary key that doesn't exist"
      ],
      "metadata": {
        "id": "_Jfgg98YMUKv"
      }
    },
    {
      "cell_type": "code",
      "source": [
        "try:\n",
        "    data = {\"name\": \"John\"}\n",
        "    print(data[\"age\"])\n",
        "except KeyError:\n",
        "    print(\"Key not found!\")\n"
      ],
      "metadata": {
        "id": "HDlpqO_tMYlk"
      },
      "execution_count": null,
      "outputs": []
    },
    {
      "cell_type": "markdown",
      "source": [
        "12. Write a program that demonstrates using multiple except blocks to handle different types of exceptions"
      ],
      "metadata": {
        "id": "yRPm-eOVMbSp"
      }
    },
    {
      "cell_type": "code",
      "source": [
        "try:\n",
        "    x = int(\"abc\")  # ValueError\n",
        "    y = 10 / 0  # ZeroDivisionError\n",
        "except ValueError:\n",
        "    print(\"Invalid number format!\")\n",
        "except ZeroDivisionError:\n",
        "    print(\"Cannot divide by zero!\")\n"
      ],
      "metadata": {
        "id": "PD1ufAsRMgzN"
      },
      "execution_count": null,
      "outputs": []
    },
    {
      "cell_type": "markdown",
      "source": [
        "13.How would you check if a file exists before attempting to read it in Python"
      ],
      "metadata": {
        "id": "PeuxxX6pMj07"
      }
    },
    {
      "cell_type": "code",
      "source": [
        "\n",
        "\n",
        "import os\n",
        "\n",
        "if os.path.exists(\"example.txt\"):\n",
        "    with open(\"example.txt\", \"r\") as file:\n",
        "        print(file.read())\n",
        "else:\n",
        "    print(\"File does not exist.\")\n"
      ],
      "metadata": {
        "id": "u3GZTmuBMqsW"
      },
      "execution_count": null,
      "outputs": []
    },
    {
      "cell_type": "markdown",
      "source": [
        "14.Write a program that uses the logging module to log both informational and error messages"
      ],
      "metadata": {
        "id": "jwMFAIryMue0"
      }
    },
    {
      "cell_type": "code",
      "source": [
        "import logging\n",
        "\n",
        "logging.basicConfig(filename=\"app.log\", level=logging.INFO)\n",
        "logging.info(\"Application started.\")\n",
        "try:\n",
        "    result = 10 / 0\n",
        "except ZeroDivisionError:\n",
        "    logging.error(\"Division by zero error occurred.\")\n"
      ],
      "metadata": {
        "id": "ZY8u7eVyMywh"
      },
      "execution_count": null,
      "outputs": []
    },
    {
      "cell_type": "markdown",
      "source": [
        "15.Write a Python program that prints the content of a file and handles the case when the file is empty"
      ],
      "metadata": {
        "id": "eEk8CIAvM1Kb"
      }
    },
    {
      "cell_type": "code",
      "source": [
        "with open(\"example.txt\", \"r\") as file:\n",
        "    content = file.read()\n",
        "    if not content:\n",
        "        print(\"File is empty.\")\n",
        "    else:\n",
        "        print(content)\n"
      ],
      "metadata": {
        "id": "t9FTxl54M69j"
      },
      "execution_count": null,
      "outputs": []
    },
    {
      "cell_type": "markdown",
      "source": [
        "16.Demonstrate how to use memory profiling to check the memory usage of a small program"
      ],
      "metadata": {
        "id": "ZT1W3j5IM-bG"
      }
    },
    {
      "cell_type": "code",
      "source": [
        "from memory_profiler import profile\n",
        "\n",
        "@profile\n",
        "def memory_test():\n",
        "    arr = [i for i in range(100000)]  # Simulate memory usage\n",
        "    return arr\n",
        "\n",
        "memory_test()\n"
      ],
      "metadata": {
        "id": "oO_bIZO7NDlb"
      },
      "execution_count": null,
      "outputs": []
    },
    {
      "cell_type": "markdown",
      "source": [
        "17. Write a Python program to create and write a list of numbers to a file, one number per line"
      ],
      "metadata": {
        "id": "FC-5MkTbNGVW"
      }
    },
    {
      "cell_type": "code",
      "source": [
        "with open(\"numbers.txt\", \"w\") as file:\n",
        "    for i in range(1, 11):\n",
        "        file.write(f\"{i}\\n\")\n"
      ],
      "metadata": {
        "id": "ODo0in6aNLNO"
      },
      "execution_count": null,
      "outputs": []
    },
    {
      "cell_type": "markdown",
      "source": [
        "18.How would you implement a basic logging setup that logs to a file with rotation after 1MB"
      ],
      "metadata": {
        "id": "qPMJzq_8NQXC"
      }
    },
    {
      "cell_type": "code",
      "source": [
        "import logging\n",
        "from logging.handlers import RotatingFileHandler\n",
        "\n",
        "handler = RotatingFileHandler(\"app.log\", maxBytes=1024*1024, backupCount=5)\n",
        "logging.basicConfig(handlers=[handler], level=logging.INFO)\n",
        "\n",
        "logging.info(\"Log message.\")\n"
      ],
      "metadata": {
        "id": "Cio0bI4FNUUG"
      },
      "execution_count": null,
      "outputs": []
    },
    {
      "cell_type": "markdown",
      "source": [
        "19.Write a program that handles both IndexError and KeyError using a try-except block"
      ],
      "metadata": {
        "id": "fO_BhvXjNZ-O"
      }
    },
    {
      "cell_type": "code",
      "source": [
        "try:\n",
        "    lst = [1, 2, 3]\n",
        "    print(lst[5])  # IndexError\n",
        "    dct = {\"a\": 1}\n",
        "    print(dct[\"b\"])  # KeyError\n",
        "except (IndexError, KeyError) as e:\n",
        "    print(f\"Error: {e}\")\n"
      ],
      "metadata": {
        "id": "h2t3UBvmNfIw"
      },
      "execution_count": null,
      "outputs": []
    },
    {
      "cell_type": "markdown",
      "source": [
        "20. How would you open a file and read its contents using a context manager in Python"
      ],
      "metadata": {
        "id": "EvaRvr12Nm0W"
      }
    },
    {
      "cell_type": "code",
      "source": [
        "with open(\"example.txt\", \"r\") as file:\n",
        "    content = file.read()\n",
        "print(content)\n"
      ],
      "metadata": {
        "id": "eerkHjn7NpW6"
      },
      "execution_count": null,
      "outputs": []
    },
    {
      "cell_type": "markdown",
      "source": [
        "21. Write a Python program that reads a file and prints the number of occurrences of a specific word"
      ],
      "metadata": {
        "id": "9aNIZuIbNsCM"
      }
    },
    {
      "cell_type": "code",
      "source": [
        "word_to_count = \"Python\"\n",
        "\n",
        "with open(\"example.txt\", \"r\") as file:\n",
        "    content = file.read()\n",
        "    count = content.lower().split().count(word_to_count.lower())\n",
        "\n",
        "print(f\"Occurrences of '{word_to_count}': {count}\")\n"
      ],
      "metadata": {
        "id": "k1Ox4HFfNxdR"
      },
      "execution_count": null,
      "outputs": []
    },
    {
      "cell_type": "markdown",
      "source": [
        "22.How can you check if a file is empty before attempting to read its contents"
      ],
      "metadata": {
        "id": "wzQ_9fkcN1B7"
      }
    },
    {
      "cell_type": "code",
      "source": [
        "import os\n",
        "\n",
        "if os.path.exists(\"example.txt\") and os.stat(\"example.txt\").st_size == 0:\n",
        "    print(\"File is empty.\")\n",
        "else:\n",
        "    with open(\"example.txt\", \"r\") as file:\n",
        "        print(file.read())\n"
      ],
      "metadata": {
        "id": "K0uusm4nN6L2"
      },
      "execution_count": null,
      "outputs": []
    },
    {
      "cell_type": "markdown",
      "source": [
        "23. Write a Python program that writes to a log file when an error occurs during file handling"
      ],
      "metadata": {
        "id": "VFCPI1VRN9Ac"
      }
    },
    {
      "cell_type": "code",
      "source": [
        "import logging\n",
        "\n",
        "logging.basicConfig(filename=\"file_errors.log\", level=logging.ERROR)\n",
        "try:\n",
        "    with open(\"missing.txt\", \"r\") as file:\n",
        "        content = file.read()\n",
        "except FileNotFoundError as e:\n",
        "    logging.error(f\"File error: {e}\")\n"
      ],
      "metadata": {
        "id": "vU734cuMOCst"
      },
      "execution_count": null,
      "outputs": []
    }
  ]
}